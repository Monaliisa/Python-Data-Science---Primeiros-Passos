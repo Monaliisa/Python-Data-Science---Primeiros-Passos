{
  "nbformat": 4,
  "nbformat_minor": 0,
  "metadata": {
    "colab": {
      "provenance": [],
      "include_colab_link": true
    },
    "kernelspec": {
      "name": "python3",
      "display_name": "Python 3"
    },
    "language_info": {
      "name": "python"
    }
  },
  "cells": [
    {
      "cell_type": "markdown",
      "metadata": {
        "id": "view-in-github",
        "colab_type": "text"
      },
      "source": [
        "<a href=\"https://colab.research.google.com/github/Monaliisa/Python-Data-Science---Primeiros-Passos/blob/main/Python_para_DataScience(Monalisa).ipynb\" target=\"_parent\"><img src=\"https://colab.research.google.com/assets/colab-badge.svg\" alt=\"Open In Colab\"/></a>"
      ]
    },
    {
      "cell_type": "markdown",
      "source": [
        "# Python para Data Science\n",
        "\n",
        "Notebook para o curso de Python para Data Science publicado na plataforma da [Alura](https://www.alura.com.br/)"
      ],
      "metadata": {
        "id": "lQx6Mmv0OJyT"
      }
    },
    {
      "cell_type": "markdown",
      "source": [
        "# Introdução ao Python\n",
        "\n",
        "Vamos conhecer o Python, nosso ambiente de estudo e também faremos nosso primeiro código nessa linguagem!"
      ],
      "metadata": {
        "id": "7SiB6JIpYKmY"
      }
    },
    {
      "cell_type": "markdown",
      "source": [
        "## Google Colaboratory\n",
        "\n",
        "Já aprendemos o que é o [Python](https://www.python.org/) agora vamos aprender a utilzar o [Google Colaboratory](https://colab.research.google.com/) e programar em um notebook.\n",
        "\n",
        "Vamos testar algumas funções dessa ferramenta."
      ],
      "metadata": {
        "id": "Yugfb3fCOYY9"
      }
    },
    {
      "cell_type": "markdown",
      "source": [
        " **`>>> Use essa célula para mover <<<`**"
      ],
      "metadata": {
        "id": "2iUHQsJasJAk"
      }
    },
    {
      "cell_type": "code",
      "source": [
        "10"
      ],
      "metadata": {
        "id": "tWQp3j7S6MTX",
        "outputId": "0c6565f7-9f65-4606-f434-f5d897f87600",
        "colab": {
          "base_uri": "https://localhost:8080/"
        }
      },
      "execution_count": null,
      "outputs": [
        {
          "output_type": "execute_result",
          "data": {
            "text/plain": [
              "10"
            ]
          },
          "metadata": {},
          "execution_count": 1
        }
      ]
    },
    {
      "cell_type": "markdown",
      "source": [
        "## Olá mundo!\n",
        "\n",
        "Vamso conhecer mais como funciona o ambiente interativo de um notebook. Para isso vamos executar nosso primeiro comando em Python: [`print()`](https://docs.python.org/3/library/functions.html#print)"
      ],
      "metadata": {
        "id": "aLSFP2V7XTfe"
      }
    },
    {
      "cell_type": "code",
      "source": [
        "print('Olá Mundo')"
      ],
      "metadata": {
        "id": "5s5z5TeP6LDU",
        "colab": {
          "base_uri": "https://localhost:8080/"
        },
        "outputId": "43e3c2d9-31c3-4ae2-916a-42818b6f6c92"
      },
      "execution_count": null,
      "outputs": [
        {
          "output_type": "stream",
          "name": "stdout",
          "text": [
            "Olá Mundo\n"
          ]
        }
      ]
    },
    {
      "cell_type": "code",
      "source": [
        "print(10)"
      ],
      "metadata": {
        "id": "tNeEkSW06K8X",
        "colab": {
          "base_uri": "https://localhost:8080/"
        },
        "outputId": "431eb061-0998-48bb-c80b-24bffc34668f"
      },
      "execution_count": null,
      "outputs": [
        {
          "output_type": "stream",
          "name": "stdout",
          "text": [
            "10\n"
          ]
        }
      ]
    },
    {
      "cell_type": "code",
      "source": [
        "print('Monalisa', 28)"
      ],
      "metadata": {
        "id": "2sKZJ-PO6K0w",
        "colab": {
          "base_uri": "https://localhost:8080/"
        },
        "outputId": "877c6456-0c9e-4864-d98f-4c768686bfec"
      },
      "execution_count": null,
      "outputs": [
        {
          "output_type": "stream",
          "name": "stdout",
          "text": [
            "Monalisa 28\n"
          ]
        }
      ]
    },
    {
      "cell_type": "markdown",
      "source": [
        "# Manipulando dados\n",
        "\n",
        "Vamos aprender sobre as variáveis no python, como elas são declaradas e utilizadas além de conhecer outros comandos dentro do Python. :D"
      ],
      "metadata": {
        "id": "iP8uWQmFYFRs"
      }
    },
    {
      "cell_type": "markdown",
      "source": [
        "## Variáveis\n",
        "\n",
        "Em Data Science nós trabalhamos com vários dados e informações, então é essencial saber trabalhar com variáveis."
      ],
      "metadata": {
        "id": "sLNVmnTbag1Z"
      }
    },
    {
      "cell_type": "markdown",
      "source": [
        "Criamos uma variável no python através da atribuição de um valor a ela.\n",
        "\n",
        "Para fazer isso, colocamos o nome da variável um sinal de igual (`=`) e o valor que queremos atribuir"
      ],
      "metadata": {
        "id": "lsCY0wahAbf6"
      }
    },
    {
      "cell_type": "code",
      "source": [
        "idade = 5"
      ],
      "metadata": {
        "id": "8J3pJghf57ZI"
      },
      "execution_count": null,
      "outputs": []
    },
    {
      "cell_type": "code",
      "source": [
        "idade"
      ],
      "metadata": {
        "id": "Byehj1QR57S1",
        "colab": {
          "base_uri": "https://localhost:8080/"
        },
        "outputId": "de37bf68-12f1-4ec8-9089-80403acede1b"
      },
      "execution_count": null,
      "outputs": [
        {
          "output_type": "execute_result",
          "data": {
            "text/plain": [
              "5"
            ]
          },
          "metadata": {},
          "execution_count": 6
        }
      ]
    },
    {
      "cell_type": "code",
      "source": [
        "\n",
        "idade = 10"
      ],
      "metadata": {
        "id": "cMjXA8DO58Uj"
      },
      "execution_count": null,
      "outputs": []
    },
    {
      "cell_type": "code",
      "source": [
        "\n",
        "idade"
      ],
      "metadata": {
        "id": "82qmrXyz58SD",
        "colab": {
          "base_uri": "https://localhost:8080/"
        },
        "outputId": "164d6bfe-0030-4800-be6d-f8d11931af84"
      },
      "execution_count": null,
      "outputs": [
        {
          "output_type": "execute_result",
          "data": {
            "text/plain": [
              "10"
            ]
          },
          "metadata": {},
          "execution_count": 8
        }
      ]
    },
    {
      "cell_type": "code",
      "source": [
        "nome = 'Rafaela'\n",
        "\n",
        "\n"
      ],
      "metadata": {
        "id": "h0QjCDb15z7-"
      },
      "execution_count": null,
      "outputs": []
    },
    {
      "cell_type": "markdown",
      "source": [
        "Nomes que **não** podemos definir para variáveis:\n",
        "\n",
        "- **Nomes que começam com números**\n",
        "  - Exemplos: `10_notas`, `2_nomes_casa`, etc.\n",
        "- **Palavras separada por espaço**\n",
        "  - Exemplos: `Nome escola`, `notas estudantes`, etc.\n",
        "- **Nomes de funções do Python**\n",
        "  - Exemplos: `print`, `type`, etc."
      ],
      "metadata": {
        "id": "om2N0jHKAzwL"
      }
    },
    {
      "cell_type": "markdown",
      "source": [
        "> Letras maiúsculas e minúsculas vão gerar diferentes variáveis. A varíavel `idade` é diferente de `Idade` que por sua vez também é diferente de `IDADE`:\n",
        "``` Python\n",
        "idade = 1\n",
        "Idade = 2\n",
        "IDADE = 3\n",
        "_idade = 4\n",
        "_idade_ = 5\n",
        "print(idade, Idade, IDADE, _idade, _idade_)\n",
        "1 2 3 4 5\n",
        "```"
      ],
      "metadata": {
        "id": "A19vY2GVMujB"
      }
    },
    {
      "cell_type": "markdown",
      "source": [
        "## Tipos de variáveis\n",
        "\n",
        "Cada variável contém uma classe especifica quanto ao tipo de objeto que ela está se referenciando. Essas classes vão ser diferentes a partir do tipo de dado que nós atribuimos a uma variável.\n",
        "\n",
        "Para saber a classe de cada elemento usamos a função [`type()`](https://docs.python.org/3/library/functions.html#type)"
      ],
      "metadata": {
        "id": "UqhzuBhBHsps"
      }
    },
    {
      "cell_type": "code",
      "source": [
        "i = 5\n",
        "type(i)\n"
      ],
      "metadata": {
        "id": "-tb-XRcq5v9W",
        "colab": {
          "base_uri": "https://localhost:8080/"
        },
        "outputId": "39c308d5-a4dc-48f4-af05-50b172fa2d5e"
      },
      "execution_count": null,
      "outputs": [
        {
          "output_type": "execute_result",
          "data": {
            "text/plain": [
              "int"
            ]
          },
          "metadata": {},
          "execution_count": 10
        }
      ]
    },
    {
      "cell_type": "code",
      "source": [
        "f = 9.8\n",
        "type(f)\n"
      ],
      "metadata": {
        "id": "5ncn48tw5vw2",
        "colab": {
          "base_uri": "https://localhost:8080/"
        },
        "outputId": "dd634f9f-c84f-4d93-a757-62fc6e1f8963"
      },
      "execution_count": null,
      "outputs": [
        {
          "output_type": "execute_result",
          "data": {
            "text/plain": [
              "float"
            ]
          },
          "metadata": {},
          "execution_count": 11
        }
      ]
    },
    {
      "cell_type": "code",
      "source": [
        "s = 'Monalisa'\n",
        "type(s)\n"
      ],
      "metadata": {
        "id": "PURhkDrw5vpB",
        "colab": {
          "base_uri": "https://localhost:8080/"
        },
        "outputId": "201d7b34-23b8-49cc-d1c4-fe8211970dd1"
      },
      "execution_count": null,
      "outputs": [
        {
          "output_type": "execute_result",
          "data": {
            "text/plain": [
              "str"
            ]
          },
          "metadata": {},
          "execution_count": 12
        }
      ]
    },
    {
      "cell_type": "code",
      "source": [
        "b = True\n",
        "type(b)\n"
      ],
      "metadata": {
        "id": "w0XcF4MC5vhw",
        "colab": {
          "base_uri": "https://localhost:8080/"
        },
        "outputId": "cd0dc332-b0aa-4420-8d2d-470cbb10ba4f"
      },
      "execution_count": null,
      "outputs": [
        {
          "output_type": "execute_result",
          "data": {
            "text/plain": [
              "bool"
            ]
          },
          "metadata": {},
          "execution_count": 13
        }
      ]
    },
    {
      "cell_type": "code",
      "source": [
        "b = True"
      ],
      "metadata": {
        "id": "Hl-JQzKIcjh_"
      },
      "execution_count": null,
      "outputs": []
    },
    {
      "cell_type": "markdown",
      "source": [
        "Em um conjunto de dados escolares podemos ter vários tipos de informações. Digamos que tenhamos acesso à ficha de dados do aluno *Frabicio Daniel* como transformamos ela em variáveis no Python?\n",
        "\n",
        "#### Ficha:\n",
        "\n",
        "- Nome: Fabricio Daniel\n",
        "- Idade: 15 anos\n",
        "- Media do semestre: 8,45\n",
        "- Situação de aprovação: Verdadeira (aprovado)"
      ],
      "metadata": {
        "id": "O-FxDumfWu0C"
      }
    },
    {
      "cell_type": "code",
      "source": [
        "nome_aluno = 'Fabricio Daniel'\n",
        "idade_aluno = 15\n",
        "media_aluno = 8.45\n",
        "situacao_aprovado = True\n"
      ],
      "metadata": {
        "id": "xZ3Exi2L5ozi"
      },
      "execution_count": null,
      "outputs": []
    },
    {
      "cell_type": "code",
      "source": [
        "print(nome_aluno,idade_aluno,media_aluno,situacao_aprovado)"
      ],
      "metadata": {
        "colab": {
          "base_uri": "https://localhost:8080/"
        },
        "id": "W7p8xt0eeThV",
        "outputId": "668a229b-2868-40ec-d575-71539bd4e691"
      },
      "execution_count": null,
      "outputs": [
        {
          "output_type": "stream",
          "name": "stdout",
          "text": [
            "Fabricio Daniel 15 8.45 True\n"
          ]
        }
      ]
    },
    {
      "cell_type": "markdown",
      "source": [
        "## Variáveis numéricas\n",
        "\n",
        "Entre os tipos de dados numéricos vamos nos focar no tipo `inteiro` e `float`."
      ],
      "metadata": {
        "id": "KFq_8Sxf-OG0"
      }
    },
    {
      "cell_type": "markdown",
      "source": [
        "Temos uma tabela de informação de empregos quanto ao cargo, quantidade de pessoas empregadas e o salário correspondente:\n",
        "\n",
        "|Cargo | Quantidade | Salário|\n",
        "|---|---|---|\n",
        "|Segurança | 5 | 3000 |\n",
        "|Docente | 16| 6000|\n",
        "|Diretoria| 1 |12500|\n",
        "\n",
        "Precisamos trabalhar com esses dados fornecendo:\n",
        "\n",
        "- A quantidade total de empregados;\n",
        "- A diferença entre o salário mais baixo e mais alto; e\n",
        "- A média ponderada da faixa salarial da escola."
      ],
      "metadata": {
        "id": "8_HYUbkVYdQY"
      }
    },
    {
      "cell_type": "code",
      "source": [
        "q_seguranca = 5\n",
        "s_seguranca = 3000\n",
        "\n",
        "q_docente = 16\n",
        "s_docente = 6000\n",
        "\n",
        "q_diretoria = 1\n",
        "s_diretoria = 12500"
      ],
      "metadata": {
        "id": "xJIq5MRRZAlj"
      },
      "execution_count": null,
      "outputs": []
    },
    {
      "cell_type": "code",
      "source": [
        "total_empregados = q_seguranca + q_docente + q_diretoria\n"
      ],
      "metadata": {
        "id": "pIgt-k6T5WpB"
      },
      "execution_count": null,
      "outputs": []
    },
    {
      "cell_type": "code",
      "source": [
        "diferenca_salario = s_diretoria - s_seguranca\n",
        "diferenca_salario\n"
      ],
      "metadata": {
        "id": "bL9uGHvp5We5",
        "colab": {
          "base_uri": "https://localhost:8080/"
        },
        "outputId": "f5f98dc8-a716-477e-8770-da39943f2f8b"
      },
      "execution_count": null,
      "outputs": [
        {
          "output_type": "execute_result",
          "data": {
            "text/plain": [
              "9500"
            ]
          },
          "metadata": {},
          "execution_count": 19
        }
      ]
    },
    {
      "cell_type": "code",
      "source": [
        "media = (q_seguranca*s_seguranca + q_docente*s_docente + q_diretoria*s_diretoria) / (total_empregados)\n",
        "media\n"
      ],
      "metadata": {
        "id": "GpTS_c8_5WX_",
        "colab": {
          "base_uri": "https://localhost:8080/"
        },
        "outputId": "871f5c99-832c-4dbd-e55e-94360c37e02b"
      },
      "execution_count": null,
      "outputs": [
        {
          "output_type": "execute_result",
          "data": {
            "text/plain": [
              "5613.636363636364"
            ]
          },
          "metadata": {},
          "execution_count": 20
        }
      ]
    },
    {
      "cell_type": "markdown",
      "source": [
        "## Strings"
      ],
      "metadata": {
        "id": "yQy7b0ZWoD-P"
      }
    },
    {
      "cell_type": "markdown",
      "source": [
        "Strings são caracterizada por ter um conjunto de caracteres formando um texto.\n",
        "\n",
        "Strigs podem ser criadas ao atribuirmos a uma variável um dado que esteja entre aspas simples (`'`) ou aspas duplas (`\"`)"
      ],
      "metadata": {
        "id": "vlo2-DXusv3s"
      }
    },
    {
      "cell_type": "code",
      "source": [
        "s1 = 'Alura'\n",
        "s2 = \"Alura\"\n",
        "print(type(s1), type(s2))"
      ],
      "metadata": {
        "id": "SSinaAb15FWn",
        "colab": {
          "base_uri": "https://localhost:8080/"
        },
        "outputId": "f993962a-0644-4a12-f801-305dd0eaec61"
      },
      "execution_count": null,
      "outputs": [
        {
          "output_type": "stream",
          "name": "stdout",
          "text": [
            "<class 'str'> <class 'str'>\n"
          ]
        }
      ]
    },
    {
      "cell_type": "markdown",
      "source": [
        "As variáveis textuais contém vários métodos que nos ajudam a formatar strings. Métódos podem ser executados ao definirmos um objeto seguindo a seguinte estrutura:\n",
        "\n",
        "```\n",
        "objeto.metodo()\n",
        "```\n",
        "\n",
        "Existem métodos que não necessitam dos `()`, é preciso verificar a documentação de cada caso."
      ],
      "metadata": {
        "id": "2e9UD_CCxqz_"
      }
    },
    {
      "cell_type": "markdown",
      "source": [
        "---\n",
        "**Situação:**\n",
        "\n",
        "Recebemos uma variável com o nome de uma professora da escola para inserimos no cadastro. No entanto, precisamos tratar esse texto antes de inserirmos no sistema"
      ],
      "metadata": {
        "id": "p6aPmMGP4tf9"
      }
    },
    {
      "cell_type": "code",
      "source": [
        "texto = '  Geovana Alessandra dias Sanyos '"
      ],
      "metadata": {
        "id": "4tkS8Iit1Ccg"
      },
      "execution_count": null,
      "outputs": []
    },
    {
      "cell_type": "markdown",
      "source": [
        "O objetivo final é que o nome esteja da seguinte forma:\n",
        "\n",
        "```\n",
        "'GEOVANA ALESSANDRA DIAS SANTOS'\n",
        "```"
      ],
      "metadata": {
        "id": "Dg2ZXSZOGzjC"
      }
    },
    {
      "cell_type": "markdown",
      "source": [
        "### [`str.upper()` ](https://docs.python.org/3/library/stdtypes.html#str.upper)\n",
        "Converte uma string para maiúsculas"
      ],
      "metadata": {
        "id": "iVTAD8q702eN"
      }
    },
    {
      "cell_type": "code",
      "source": [
        "texto.upper()\n"
      ],
      "metadata": {
        "id": "sWMt1iWW5LdN",
        "colab": {
          "base_uri": "https://localhost:8080/",
          "height": 36
        },
        "outputId": "e3049628-bf25-4221-ca0d-4e75c7f564cb"
      },
      "execution_count": null,
      "outputs": [
        {
          "output_type": "execute_result",
          "data": {
            "text/plain": [
              "'  GEOVANA ALESSANDRA DIAS SANYOS '"
            ],
            "application/vnd.google.colaboratory.intrinsic+json": {
              "type": "string"
            }
          },
          "metadata": {},
          "execution_count": 23
        }
      ]
    },
    {
      "cell_type": "markdown",
      "source": [
        "### [`str.lower()`](https://docs.python.org/3/library/stdtypes.html#str.lower)\n",
        "Método converte uma string para minúsculas."
      ],
      "metadata": {
        "id": "hbDSBtMV1TpG"
      }
    },
    {
      "cell_type": "code",
      "source": [
        "texto.lower()\n"
      ],
      "metadata": {
        "id": "ypSOC5WR5MTi",
        "colab": {
          "base_uri": "https://localhost:8080/",
          "height": 36
        },
        "outputId": "080b22af-3ed3-4436-c376-f933a0cb671c"
      },
      "execution_count": null,
      "outputs": [
        {
          "output_type": "execute_result",
          "data": {
            "text/plain": [
              "'  geovana alessandra dias sanyos '"
            ],
            "application/vnd.google.colaboratory.intrinsic+json": {
              "type": "string"
            }
          },
          "metadata": {},
          "execution_count": 24
        }
      ]
    },
    {
      "cell_type": "markdown",
      "source": [
        "### [`str.strip()`](https://docs.python.org/3/library/stdtypes.html#str.strip)\n",
        "Método remove os espaços em branco do início e do fim de uma string."
      ],
      "metadata": {
        "id": "kz47eWM11gii"
      }
    },
    {
      "cell_type": "code",
      "source": [
        "texto.strip()\n"
      ],
      "metadata": {
        "id": "Xys25o1N5NKD",
        "colab": {
          "base_uri": "https://localhost:8080/",
          "height": 36
        },
        "outputId": "ad9f9fef-d2bf-4d53-f5a1-c6ec26c4e8e8"
      },
      "execution_count": null,
      "outputs": [
        {
          "output_type": "execute_result",
          "data": {
            "text/plain": [
              "'Geovana Alessandra dias Sanyos'"
            ],
            "application/vnd.google.colaboratory.intrinsic+json": {
              "type": "string"
            }
          },
          "metadata": {},
          "execution_count": 25
        }
      ]
    },
    {
      "cell_type": "markdown",
      "source": [
        "### [`str.replace(antigo, novo)`](https://docs.python.org/3/library/stdtypes.html#str.replace)\n",
        "\n",
        "Método substitui todas as ocorrências do texto \"antigo\" na string por \"novo\""
      ],
      "metadata": {
        "id": "m6notiyS1SCV"
      }
    },
    {
      "cell_type": "code",
      "source": [
        "texto.replace('y','t')\n"
      ],
      "metadata": {
        "id": "oY2mU2Id5OcO",
        "colab": {
          "base_uri": "https://localhost:8080/",
          "height": 36
        },
        "outputId": "4e08ae23-3084-4eb7-c2b5-6eb27bc6555a"
      },
      "execution_count": null,
      "outputs": [
        {
          "output_type": "execute_result",
          "data": {
            "text/plain": [
              "'  Geovana Alessandra dias Santos '"
            ],
            "application/vnd.google.colaboratory.intrinsic+json": {
              "type": "string"
            }
          },
          "metadata": {},
          "execution_count": 26
        }
      ]
    },
    {
      "cell_type": "markdown",
      "source": [
        "### Observações\n",
        "\n",
        "1. Os métodos retornam uma **tranformação**, não a executam no texto!\n",
        "\n",
        "2. Além disso, podemos acumular a execução de métodos."
      ],
      "metadata": {
        "id": "zukvEjhG2Rcn"
      }
    },
    {
      "cell_type": "code",
      "source": [
        "texto"
      ],
      "metadata": {
        "id": "Q6O5y20u5PQk",
        "colab": {
          "base_uri": "https://localhost:8080/",
          "height": 36
        },
        "outputId": "436210e5-4e0c-4cb5-c704-cfe5f307887c"
      },
      "execution_count": null,
      "outputs": [
        {
          "output_type": "execute_result",
          "data": {
            "text/plain": [
              "'  Geovana Alessandra dias Sanyos '"
            ],
            "application/vnd.google.colaboratory.intrinsic+json": {
              "type": "string"
            }
          },
          "metadata": {},
          "execution_count": 27
        }
      ]
    },
    {
      "cell_type": "code",
      "source": [],
      "metadata": {
        "id": "Ga60WW2Uj1bJ"
      },
      "execution_count": null,
      "outputs": []
    },
    {
      "cell_type": "markdown",
      "source": [
        "Para que seja executada a transformação nós podemos atribuir às saídas das transformações à variável"
      ],
      "metadata": {
        "id": "1KbwfVut2h6I"
      }
    },
    {
      "cell_type": "code",
      "source": [
        "texto = texto.strip().replace('y','t').upper()\n",
        "texto\n",
        "\n"
      ],
      "metadata": {
        "id": "W6DiHv2H5Tq-",
        "colab": {
          "base_uri": "https://localhost:8080/",
          "height": 36
        },
        "outputId": "eeca5f7d-4891-409f-b4f4-15be6bab36e3"
      },
      "execution_count": null,
      "outputs": [
        {
          "output_type": "execute_result",
          "data": {
            "text/plain": [
              "'GEOVANA ALESSANDRA DIAS SANTOS'"
            ],
            "application/vnd.google.colaboratory.intrinsic+json": {
              "type": "string"
            }
          },
          "metadata": {},
          "execution_count": 28
        }
      ]
    },
    {
      "cell_type": "code",
      "source": [
        "texto"
      ],
      "metadata": {
        "colab": {
          "base_uri": "https://localhost:8080/",
          "height": 36
        },
        "id": "9qMN0gRYjSj8",
        "outputId": "3b99bb81-a49f-487a-e391-37bcb99e0d59"
      },
      "execution_count": null,
      "outputs": [
        {
          "output_type": "execute_result",
          "data": {
            "text/plain": [
              "'GEOVANA ALESSANDRA DIAS SANTOS'"
            ],
            "application/vnd.google.colaboratory.intrinsic+json": {
              "type": "string"
            }
          },
          "metadata": {},
          "execution_count": 29
        }
      ]
    },
    {
      "cell_type": "markdown",
      "source": [
        "## Coletando dados\n",
        "\n",
        "Em algumas aplicações precisamos coletar valores da pessoa usuária do nosso projeto. Em python conseguimos coletar dados de usuário através do comando [`input()`](https://docs.python.org/3/library/functions.html#input).\n",
        "\n",
        "Para fazer essa coleta podemos atribuir essa função à uma variável."
      ],
      "metadata": {
        "id": "0h9Fh5G9kHCa"
      }
    },
    {
      "cell_type": "code",
      "source": [
        "nome = input('Escreva o seu nome: ')"
      ],
      "metadata": {
        "id": "iEJyxhIj41id",
        "colab": {
          "base_uri": "https://localhost:8080/"
        },
        "outputId": "bac444c7-92d9-48f4-a330-2c426a9cafba"
      },
      "execution_count": null,
      "outputs": [
        {
          "name": "stdout",
          "output_type": "stream",
          "text": [
            "Escreva o seu nome: monalisa\n"
          ]
        }
      ]
    },
    {
      "cell_type": "code",
      "source": [
        "nome"
      ],
      "metadata": {
        "id": "MoMXzZkC41Ze",
        "colab": {
          "base_uri": "https://localhost:8080/",
          "height": 36
        },
        "outputId": "3091fb2d-6a22-4820-cbbe-f584495b7370"
      },
      "execution_count": null,
      "outputs": [
        {
          "output_type": "execute_result",
          "data": {
            "text/plain": [
              "'monalisa'"
            ],
            "application/vnd.google.colaboratory.intrinsic+json": {
              "type": "string"
            }
          },
          "metadata": {},
          "execution_count": 31
        }
      ]
    },
    {
      "cell_type": "markdown",
      "source": [
        "O retorno desse comando sempre será uma *string*. Isso quer dizer que mesmo que façamos uma coleta de algo que deva ser numérico, ele será uma string.\n",
        "\n",
        "Então, será preciso **converter o resultado caso não seja desejável obter uma string**."
      ],
      "metadata": {
        "id": "7z7hcLCk_aCY"
      }
    },
    {
      "cell_type": "markdown",
      "source": [
        "Existem funções para conversão de valores:\n",
        "\n",
        "- Inteiros: [`int(dado_para_conversao)`](https://docs.python.org/3/library/functions.html#int)\n",
        "- Float: [`float(dado_para_conversao)`](https://docs.python.org/3/library/functions.html#float)\n",
        "- String: [`str(dado_para_conversao)`](https://docs.python.org/3/library/functions.html#func-str)\n",
        "- Booleano: [`bool(dado_para_conversao)`](https://docs.python.org/3/library/functions.html#bool)"
      ],
      "metadata": {
        "id": "TOlegATj1Jfp"
      }
    },
    {
      "cell_type": "code",
      "source": [
        "ano_entrada = input('Escreva o ano de ingresso do(a) estudante: ')"
      ],
      "metadata": {
        "id": "MQRu7y9646S9",
        "colab": {
          "base_uri": "https://localhost:8080/"
        },
        "outputId": "9c58970f-4ee3-4d4b-dd34-28eefca1dc2e"
      },
      "execution_count": null,
      "outputs": [
        {
          "name": "stdout",
          "output_type": "stream",
          "text": [
            "Escreva o ano de ingresso do(a) estudante: 2023\n"
          ]
        }
      ]
    },
    {
      "cell_type": "code",
      "source": [
        "type(ano_entrada)"
      ],
      "metadata": {
        "id": "FwezgXQA48VF",
        "colab": {
          "base_uri": "https://localhost:8080/"
        },
        "outputId": "fd4d752d-8db8-4c83-e207-6bed9c714f72"
      },
      "execution_count": null,
      "outputs": [
        {
          "output_type": "execute_result",
          "data": {
            "text/plain": [
              "str"
            ]
          },
          "metadata": {},
          "execution_count": 33
        }
      ]
    },
    {
      "cell_type": "code",
      "source": [
        "ano_entrada = int(input('Escreva o ano de ingresso do(a) estudante: '))"
      ],
      "metadata": {
        "id": "bbRqzmOJ49Q1",
        "colab": {
          "base_uri": "https://localhost:8080/"
        },
        "outputId": "058e6f9d-f5b0-48e3-9816-3eb6f5d59064"
      },
      "execution_count": null,
      "outputs": [
        {
          "name": "stdout",
          "output_type": "stream",
          "text": [
            "Escreva o ano de ingresso do(a) estudante: 2015\n"
          ]
        }
      ]
    },
    {
      "cell_type": "code",
      "source": [
        "type(ano_entrada)"
      ],
      "metadata": {
        "id": "nu5xycbG4-X1",
        "colab": {
          "base_uri": "https://localhost:8080/"
        },
        "outputId": "4f995cf4-d002-4574-fb3c-7cd17d49acb5"
      },
      "execution_count": null,
      "outputs": [
        {
          "output_type": "execute_result",
          "data": {
            "text/plain": [
              "int"
            ]
          },
          "metadata": {},
          "execution_count": 35
        }
      ]
    },
    {
      "cell_type": "markdown",
      "source": [
        "Buscaremos apresentar melhor agora o resultado que obtivemos da transformação. Nós conseguimos formatar e apresentar o nosso resultado misturando strings com valores não textuais.\n",
        "\n",
        "Para fazer isso usamos a estrutura de formatação `f` com strings."
      ],
      "metadata": {
        "id": "yNI2-XTbB3aS"
      }
    },
    {
      "cell_type": "code",
      "source": [
        "nota_entrada = float(input('Digite a nota do teste de ingresso: '))"
      ],
      "metadata": {
        "id": "b1eYnEX-4wXz",
        "colab": {
          "base_uri": "https://localhost:8080/"
        },
        "outputId": "8722154b-9102-4c06-970a-dcde5b16e7d6"
      },
      "execution_count": null,
      "outputs": [
        {
          "name": "stdout",
          "output_type": "stream",
          "text": [
            "Digite a nota do teste de ingresso: 8\n"
          ]
        }
      ]
    },
    {
      "cell_type": "code",
      "source": [
        "print(f'Ano de entrada {ano_entrada} - nota do teste de ingresso {nota_entrada}')"
      ],
      "metadata": {
        "colab": {
          "base_uri": "https://localhost:8080/"
        },
        "id": "nI2_Tajsotwq",
        "outputId": "0e923efc-b675-47a4-ab7e-32315c6baf6c"
      },
      "execution_count": null,
      "outputs": [
        {
          "output_type": "stream",
          "name": "stdout",
          "text": [
            "Ano de entrada 2015 - nota do teste de ingresso 8.0\n"
          ]
        }
      ]
    },
    {
      "cell_type": "markdown",
      "source": [
        "# Estruturas condicionais"
      ],
      "metadata": {
        "id": "NwRaiHHHhhyl"
      }
    },
    {
      "cell_type": "markdown",
      "source": [
        "## `IF` e `ELSE`\n",
        "\n",
        "O `if` e `else` são duas estruturas condicionais. O `if` executará o bloco de comando caso a condição colocada for **verdadeira**. O `else` é um caso em que a condicional de `if` seja **falsa**."
      ],
      "metadata": {
        "id": "qXZqg9aYEhAh"
      }
    },
    {
      "cell_type": "markdown",
      "source": [
        "O `if` é uma palavra-chave em Python que significa \"se\". Ele é usado para formar uma estrutura condicional, que permite que você verifique se uma determinada condição é verdadeira ou falsa e, em seguida, execute um bloco de código específico dependendo do resultado da verificação. A sintaxe para usar o `if` é:\n",
        "\n",
        "\n",
        "\n",
        "```\n",
        "if condição:\n",
        "    # faça algo\n",
        "```\n",
        "\n"
      ],
      "metadata": {
        "id": "EIhlqHXd2Gil"
      }
    },
    {
      "cell_type": "code",
      "source": [
        "if 2<7:\n",
        "  print('condicao verdadeira')\n"
      ],
      "metadata": {
        "id": "tKtzkTXW4j73",
        "colab": {
          "base_uri": "https://localhost:8080/"
        },
        "outputId": "7d4dc8aa-9dea-4a00-c86c-b00a99cb7c6e"
      },
      "execution_count": null,
      "outputs": [
        {
          "output_type": "stream",
          "name": "stdout",
          "text": [
            "condicao verdadeira\n"
          ]
        }
      ]
    },
    {
      "cell_type": "markdown",
      "source": [
        "Já o `else` em Python é usada em conjunto com a palavra-chave `if` para formar uma estrutura condicional. A sintaxe para usar o `else` é:\n",
        "\n",
        "```\n",
        "if condição:\n",
        "  # código caso seja verdade\n",
        "else:\n",
        "  # código caso seja falso\n",
        "```\n",
        "\n",
        "O `else` é executado quando a condição verificada pelo `if` é avaliada como `False`."
      ],
      "metadata": {
        "id": "27RW2v_sIKct"
      }
    },
    {
      "cell_type": "markdown",
      "source": [
        "---\n",
        "**Situação:**\n",
        "\n",
        "Receberemos a média de estudantes e precisamos de um algoritmo que execute a análise e decida se esse estudante está **Aprovado** ou Reprovado, mostrando uma mensagem do resultado. Para ser aprovado, a média precisa ser igual ou superior à 6.0."
      ],
      "metadata": {
        "id": "BqORg85XX-Nl"
      }
    },
    {
      "cell_type": "code",
      "source": [
        "media = float(input('Digite a média: '))\n",
        "\n",
        "if media >= 6.0:\n",
        "  print('Aprovado(a)')\n",
        "else:\n",
        "  print('Reprovado(a)')\n"
      ],
      "metadata": {
        "id": "yaR8bt1P4iCv",
        "colab": {
          "base_uri": "https://localhost:8080/"
        },
        "outputId": "f63b5d4c-31a8-4035-b0da-eff994e891a8"
      },
      "execution_count": null,
      "outputs": [
        {
          "output_type": "stream",
          "name": "stdout",
          "text": [
            "Digite a média: 8\n",
            "Aprovado(a)\n"
          ]
        }
      ]
    },
    {
      "cell_type": "markdown",
      "source": [
        "Agora a nossa instituição de ensino lançou uma nota oficial que pessoas que tenham média entre 4.0 e 6.0 podem fazer os cursos de **Recuperação** nas férias para poder recuperar a nota.\n",
        "\n",
        "Então podemos agora fazer um conjunto de `if`s para que possamos estruturar essa nova condição."
      ],
      "metadata": {
        "id": "bD9O17HB6LUo"
      }
    },
    {
      "cell_type": "code",
      "source": [
        "media = float(input('Digite a média: '))\n",
        "\n",
        "if media >= 6.0:\n",
        "  print('Aprovado(a)')\n",
        "if 6.0 > media >= 4.0:\n",
        "  print('Recuperação')\n",
        "if media < 4.0:\n",
        "  print('Reprovado(a)')\n"
      ],
      "metadata": {
        "id": "Rkde8bai4gvq",
        "colab": {
          "base_uri": "https://localhost:8080/"
        },
        "outputId": "4bac2025-b36a-4c12-9624-4e3ccd9586f5"
      },
      "execution_count": null,
      "outputs": [
        {
          "output_type": "stream",
          "name": "stdout",
          "text": [
            "Digite a média: 5\n",
            "Recuperação\n"
          ]
        }
      ]
    },
    {
      "cell_type": "markdown",
      "source": [
        "Notemos que em casos com 3 situações como esse precisamos definir bem nossas condições. Pois foi feita uma construção com `else` no final, ele irá considerar apenas a alguma condicional para ser o caso **falso** podendo resultar em duas (ou mais) execuções.\n",
        "\n",
        "Por exemplo:"
      ],
      "metadata": {
        "id": "D5e2mByjvycO"
      }
    },
    {
      "cell_type": "code",
      "source": [
        "media = float(input('Digite a média: '))\n",
        "\n",
        "if media >= 6.0:\n",
        "  print('Aprovado(a)')\n",
        "if 6.0 > media >= 4.0:\n",
        "  print('Recuperação')\n",
        "else:\n",
        "  print('Reprovado(a)')"
      ],
      "metadata": {
        "id": "tKvjzq414fAN",
        "colab": {
          "base_uri": "https://localhost:8080/"
        },
        "outputId": "21c5c24e-1a1a-4c26-ed6f-b62963e5c96e"
      },
      "execution_count": null,
      "outputs": [
        {
          "output_type": "stream",
          "name": "stdout",
          "text": [
            "Digite a média: 5\n",
            "Recuperação\n"
          ]
        }
      ]
    },
    {
      "cell_type": "markdown",
      "source": [
        "## `ELIF`\n",
        "\n",
        "O `elif` é uma palavra-chave em Python que significa \"senão, se\" e pode ser considerado uma união do `else` com um `if`. Ela é usada em conjunto com a palavra-chave `if` para formar uma estrutura condicional encadeada.\n",
        "\n"
      ],
      "metadata": {
        "id": "04T5g-7h4zWx"
      }
    },
    {
      "cell_type": "markdown",
      "source": [
        "A sintaxe para usar o `elif` é:\n",
        "\n",
        "```\n",
        "if condição1:\n",
        "    # faça algo\n",
        "elif condição2:\n",
        "    # faça outra coisa\n",
        "elif condição3:\n",
        "    # faça mais alguma coisa\n",
        "else:\n",
        "    # faça algo diferente\n",
        "```\n",
        "\n",
        "O `elif` permite que você verifique várias condições de forma encadeada, economizando espaço em seu código. Se a primeira condição for avaliada como `False`, o interpretador Python avaliará a próxima condição no `elif`. Isso continuará até que uma condição seja avaliada como `True` ou até que o `else` seja atingido. Se nenhuma das condições forem avaliadas como `True`, a execução do código do `else` será iniciada."
      ],
      "metadata": {
        "id": "rNBHr5mm1Lm6"
      }
    },
    {
      "cell_type": "markdown",
      "source": [
        "Vamos usar o mesmo caso anterior:"
      ],
      "metadata": {
        "id": "MVoykFbB4bd4"
      }
    },
    {
      "cell_type": "code",
      "source": [
        "media = float(input('Digite a média: '))\n",
        "if media >= 6.0:\n",
        "  print('Aprovado(a)')\n",
        "elif 6.0 > media >= 4.0:\n",
        "  print('Recuperação')\n",
        "else:\n",
        "  print('Reprovado(a)')\n",
        "\n"
      ],
      "metadata": {
        "id": "UJCHKoX54dc2",
        "colab": {
          "base_uri": "https://localhost:8080/"
        },
        "outputId": "b9002995-83e7-43c0-c467-f66a657a9d48"
      },
      "execution_count": null,
      "outputs": [
        {
          "output_type": "stream",
          "name": "stdout",
          "text": [
            "Digite a média: 7\n",
            "Aprovado(a)\n"
          ]
        }
      ]
    },
    {
      "cell_type": "markdown",
      "source": [
        "## Operadores\n",
        "\n",
        "Durante a construção de comandos por vezes precisamos de uma elaboração maior de da expressão condicional, necessitando que alguns operadores lógicos estejam integrados."
      ],
      "metadata": {
        "id": "Tf1wSOem6iwZ"
      }
    },
    {
      "cell_type": "markdown",
      "source": [
        "### `AND`, `OR`, `NOT`\n",
        "\n",
        "Os operadores lógicos `and`, `or` e `not` são usados para combinar expressões lógicas em Python. Eles são usados frequentemente em conjunto com o `if` para criar estruturas condicionais mais complexas.\n"
      ],
      "metadata": {
        "id": "GFIZnRWXGPWO"
      }
    },
    {
      "cell_type": "markdown",
      "source": [
        "- `AND` é usado para verificar se duas condições são verdadeiras. A expressão lógica¹ `x and y` é avaliada como `True` apenas se **ambas as condições `x` e `y` forem verdadeiras**, e como `False` caso contrário.\n",
        "\n",
        "- `OR` é usado para verificar se pelo menos uma das condições é verdadeira. A expressão lógica `x or y` é avaliada como `True` **se pelo menos uma das condições `x` ou `y` for verdadeira**, e como `False` se ambas forem falsas.\n",
        "\n",
        "- `NOT` é usado para **negar uma condição**. A expressão lógica not x é avaliada como True se a condição x for falsa, e como False se a condição x for verdadeira.\n",
        "\n",
        "¹ Uma expressão lógica é uma declaração que pode ser avaliada como verdadeira ou falsa. Ela é composta por operandos lógicos² e operadores lógicos³, que são usados ​​para combinar várias expressões lógicas em uma única expressão.\n",
        "\n",
        "² Os operandos lógicos são os elementos que são comparados ou avaliados em uma expressão lógica. Eles são geralmente valores verdadeiros ou falsos, mas também podem ser expressões lógicas mais complexas. Em Python, os operandos lógicos são os valores `True` e `False`.\n",
        "\n",
        "³ Os operadores lógicos são os símbolos ou palavras-chave que são usados ​​para combinar várias expressões lógicas em uma única expressão. Em Python, os operadores lógicos são `and`, `or` e `not`, bem como as palavras-chave `if`, `elif` e `else`."
      ],
      "metadata": {
        "id": "Z_dgAoHXJbzB"
      }
    },
    {
      "cell_type": "code",
      "source": [
        "t1 = t2 = True\n",
        "f1 = f2 = False"
      ],
      "metadata": {
        "id": "Fs_qb0dLOXsj"
      },
      "execution_count": null,
      "outputs": []
    },
    {
      "cell_type": "code",
      "source": [
        "if t1 and f2:\n",
        "  print('expressão verdadeira')\n",
        "else:\n",
        "  print('expressão falsa')"
      ],
      "metadata": {
        "id": "kL4QVdlZ4O43",
        "colab": {
          "base_uri": "https://localhost:8080/"
        },
        "outputId": "52cab469-9057-49f5-b9fc-9e6fb6bb2888"
      },
      "execution_count": null,
      "outputs": [
        {
          "output_type": "stream",
          "name": "stdout",
          "text": [
            "expressão falsa\n"
          ]
        }
      ]
    },
    {
      "cell_type": "code",
      "source": [
        "if t1 or f2:\n",
        "  print('expressão verdadeira')\n",
        "else:\n",
        "  print('expressão falsa')"
      ],
      "metadata": {
        "id": "JmQYjvsz4Pw5",
        "colab": {
          "base_uri": "https://localhost:8080/"
        },
        "outputId": "ad59c55c-a3d8-4c3f-8318-ae44a1f5df4d"
      },
      "execution_count": null,
      "outputs": [
        {
          "output_type": "stream",
          "name": "stdout",
          "text": [
            "expressão verdadeira\n"
          ]
        }
      ]
    },
    {
      "cell_type": "code",
      "source": [
        "if not t1:\n",
        "  print('expressão verdadeira')\n",
        "else:\n",
        "  print('expressão falsa')"
      ],
      "metadata": {
        "id": "WHfJ-ZLM4Q3k",
        "colab": {
          "base_uri": "https://localhost:8080/"
        },
        "outputId": "b5bc0f12-b747-4751-f575-649ec5a0c161"
      },
      "execution_count": null,
      "outputs": [
        {
          "output_type": "stream",
          "name": "stdout",
          "text": [
            "expressão falsa\n"
          ]
        }
      ]
    },
    {
      "cell_type": "markdown",
      "source": [
        "### `IN`\n",
        "\n",
        "É usado para verificar se um elemento está presente em uma lista, tupla ou outra variável de conjunto. A expressão `x in y` é avaliada como `True` se o elemento `x` estiver presente na variável de conjunto `y`, e como `False` caso contrário."
      ],
      "metadata": {
        "id": "w7EXG1dhWtja"
      }
    },
    {
      "cell_type": "markdown",
      "source": [
        "Podemos verificar isso com variáveis de texto.\n",
        "\n",
        "---\n",
        "\n",
        "**Situação:**\n",
        "\n",
        "Na escola foi passada uma lista com nomes de estudantes que foram aprovados por média no semestre, mas é preciso verificar se alguns nomes estão nessa lista para verificar se os dados estão corretos.\n",
        "\n",
        "A lista distribuida pode ser observada abaixo:\n",
        "\n",
        "```\n",
        "lista = 'José da Silva, Maria Oliveira, Pedro Martins, Ana Souza, Carlos Rodrigues, Juliana Santos, Bruno Gomes, Beatriz Costa, Felipe Almeida, Mariana Fernandes, João Pinto, Luísa Nascimento, Gabriel Souza, Manuela Santos, Thiago Oliveira, Sofia Ferreira, Rafael Albuquerque, Isabella Gomes, Bruno Costa, Maria Martins, Rafaela Souza, Matheus Fernandes, Luísa Almeida, Beatriz Pinto, Mariana Rodrigues, Gabriel Nascimento, João Ferreira, Maria Albuquerque, Felipe Oliveira\n",
        "'\n",
        "```\n",
        "\n",
        "Os nomes que precisam ser verificados são os seguintes:\n",
        "\n",
        "```\n",
        "nome_1 = 'Mariana Rodrigues'\n",
        "nome_2 = 'Marcelo Nogueira'\n",
        "```"
      ],
      "metadata": {
        "id": "enJNp6JenQbq"
      }
    },
    {
      "cell_type": "code",
      "source": [
        "lista = 'José da Silva, Maria Oliveira, Pedro Martins, Ana Souza, Carlos Rodrigues, Juliana Santos, Bruno Gomes, Beatriz Costa, Felipe Almeida, Mariana Fernandes, João Pinto, Luísa Nascimento, Gabriel Souza, Manuela Santos, Thiago Oliveira, Sofia Ferreira, Rafael Albuquerque, Isabella Gomes, Bruno Costa, Maria Martins, Rafaela Souza, Matheus Fernandes, Luísa Almeida, Beatriz Pinto, Mariana Rodrigues, Gabriel Nascimento, João Ferreira, Maria Albuquerque, Felipe Oliveira'\n",
        "lista"
      ],
      "metadata": {
        "id": "kU25ABUQ5NBe",
        "colab": {
          "base_uri": "https://localhost:8080/",
          "height": 70
        },
        "outputId": "075cb0e1-e5bb-46fa-9950-2a8611d2b250"
      },
      "execution_count": null,
      "outputs": [
        {
          "output_type": "execute_result",
          "data": {
            "text/plain": [
              "'José da Silva, Maria Oliveira, Pedro Martins, Ana Souza, Carlos Rodrigues, Juliana Santos, Bruno Gomes, Beatriz Costa, Felipe Almeida, Mariana Fernandes, João Pinto, Luísa Nascimento, Gabriel Souza, Manuela Santos, Thiago Oliveira, Sofia Ferreira, Rafael Albuquerque, Isabella Gomes, Bruno Costa, Maria Martins, Rafaela Souza, Matheus Fernandes, Luísa Almeida, Beatriz Pinto, Mariana Rodrigues, Gabriel Nascimento, João Ferreira, Maria Albuquerque, Felipe Oliveira'"
            ],
            "application/vnd.google.colaboratory.intrinsic+json": {
              "type": "string"
            }
          },
          "metadata": {},
          "execution_count": 47
        }
      ]
    },
    {
      "cell_type": "code",
      "source": [
        "nome_1 = 'Mariana Rodrigues'\n",
        "nome_2 = 'Marcelo Nogueira'"
      ],
      "metadata": {
        "id": "GY82qLpivC6Y"
      },
      "execution_count": null,
      "outputs": []
    },
    {
      "cell_type": "code",
      "source": [
        "nome_1 in lista"
      ],
      "metadata": {
        "id": "ipyXfbpb37b0",
        "colab": {
          "base_uri": "https://localhost:8080/"
        },
        "outputId": "0ad058d2-c346-4cb8-e582-a0e186191ae8"
      },
      "execution_count": null,
      "outputs": [
        {
          "output_type": "execute_result",
          "data": {
            "text/plain": [
              "True"
            ]
          },
          "metadata": {},
          "execution_count": 49
        }
      ]
    },
    {
      "cell_type": "code",
      "source": [
        "nome_2 in lista"
      ],
      "metadata": {
        "id": "KfXxC9A537RP",
        "colab": {
          "base_uri": "https://localhost:8080/"
        },
        "outputId": "720cceac-732f-4607-8e3c-4521d9066232"
      },
      "execution_count": null,
      "outputs": [
        {
          "output_type": "execute_result",
          "data": {
            "text/plain": [
              "False"
            ]
          },
          "metadata": {},
          "execution_count": 50
        }
      ]
    },
    {
      "cell_type": "markdown",
      "source": [
        "# Estruturas de repetição"
      ],
      "metadata": {
        "id": "aL1vJPewvwvz"
      }
    },
    {
      "cell_type": "markdown",
      "source": [
        "Quando temos que executar um mesmo bloco de comandos por várias vezes não é muito interessante fazer isso à mão.\n",
        "\n",
        "Imaginemos a situação de termos que coletar e imprimir a média de duas notas de **3 estudantes**:"
      ],
      "metadata": {
        "id": "VcPfCa8d-84t"
      }
    },
    {
      "cell_type": "code",
      "source": [
        "nota_1 = float(input('Digite a 1° nota: '))\n",
        "nota_2 = float(input('Digite a 2° nota: '))\n",
        "\n",
        "print(f'Média: {(nota_1+nota_2)/2}')\n",
        "\n",
        "nota_1 = float(input('Digite a 1° nota: '))\n",
        "nota_2 = float(input('Digite a 2° nota: '))\n",
        "\n",
        "print(f'Média: {(nota_1+nota_2)/2}')\n",
        "\n",
        "\n",
        "nota_1 = float(input('Digite a 1° nota: '))\n",
        "nota_2 = float(input('Digite a 2° nota: '))\n",
        "\n",
        "print(f'Média: {(nota_1+nota_2)/2}')"
      ],
      "metadata": {
        "id": "LzPyN4Ad3qwy",
        "colab": {
          "base_uri": "https://localhost:8080/"
        },
        "outputId": "d1067080-db8a-4162-9dc4-d06321740d68"
      },
      "execution_count": null,
      "outputs": [
        {
          "output_type": "stream",
          "name": "stdout",
          "text": [
            "Digite a 1° nota: 8.7\n",
            "Digite a 2° nota: 8.9\n",
            "Média: 8.8\n",
            "Digite a 1° nota: 5\n",
            "Digite a 2° nota: 3\n",
            "Média: 4.0\n",
            "Digite a 1° nota: 5\n",
            "Digite a 2° nota: 2\n",
            "Média: 3.5\n"
          ]
        }
      ]
    },
    {
      "cell_type": "markdown",
      "source": [
        "8Agora imaginemos uma situação em que não são apenas 3 estudantes, mas sim 100 estudantes. Não seria interessante repetir o mesmo código por 100 vezes, mas sim **executar o mesmo código 100 vezes**.\n",
        "\n",
        "Essa repetição conseguimos construir com laços de repetição!"
      ],
      "metadata": {
        "id": "9puIuvUbFSFX"
      }
    },
    {
      "cell_type": "markdown",
      "source": [
        "## `WHILE`"
      ],
      "metadata": {
        "id": "uLO9-aE4-wx8"
      }
    },
    {
      "cell_type": "markdown",
      "source": [
        "O laço `while` é uma estrutura de controle de repetição em Python que permite executar um bloco de código repetidamente enquanto uma determinada condição é verdadeira. Sua estrutura é:\n",
        "\n",
        "\n",
        "\n",
        "```\n",
        "while condição:\n",
        "    # bloco de código\n",
        "```\n",
        "\n",
        "Vamos construir um exemplo com um contador de 1 até 10.\n"
      ],
      "metadata": {
        "id": "rXZxDMiqHxm9"
      }
    },
    {
      "cell_type": "code",
      "source": [
        "contador = 1\n",
        "while contador <= 10:\n",
        "  print(contador)\n",
        "  contador = contador+1"
      ],
      "metadata": {
        "id": "6b_izu633j0O",
        "colab": {
          "base_uri": "https://localhost:8080/"
        },
        "outputId": "8d5dd777-5c4a-49f6-da37-76c067fd7200"
      },
      "execution_count": null,
      "outputs": [
        {
          "output_type": "stream",
          "name": "stdout",
          "text": [
            "1\n",
            "2\n",
            "3\n",
            "4\n",
            "5\n",
            "6\n",
            "7\n",
            "8\n",
            "9\n",
            "10\n"
          ]
        }
      ]
    },
    {
      "cell_type": "markdown",
      "source": [
        "Agora vamos coletar as notas e médias de cada aluno dentro do while. Faremos um exemplo com 3 médias."
      ],
      "metadata": {
        "id": "W4KZPBJuIrut"
      }
    },
    {
      "cell_type": "code",
      "source": [
        "contador = 1\n",
        "while contador <= 3:\n",
        "  nota_1 = float(input('Digite a 1° nota: '))\n",
        "  nota_2 = float(input('Digite a 2° nota: '))\n",
        "\n",
        "  print(f'Média: {(nota_1+nota_2)/2}')\n",
        "  contador += 1"
      ],
      "metadata": {
        "id": "aIeQ_CzW3jiP",
        "colab": {
          "base_uri": "https://localhost:8080/"
        },
        "outputId": "0dc58404-f350-4102-beec-a8c4e5669d2b"
      },
      "execution_count": null,
      "outputs": [
        {
          "output_type": "stream",
          "name": "stdout",
          "text": [
            "Digite a 1° nota: 8\n",
            "Digite a 2° nota: 7\n",
            "Média: 7.5\n",
            "Digite a 1° nota: 9\n",
            "Digite a 2° nota: 8\n",
            "Média: 8.5\n",
            "Digite a 1° nota: 7\n",
            "Digite a 2° nota: 5\n",
            "Média: 6.0\n"
          ]
        }
      ]
    },
    {
      "cell_type": "markdown",
      "source": [
        "## `FOR`"
      ],
      "metadata": {
        "id": "WgAIaENMMfCP"
      }
    },
    {
      "cell_type": "markdown",
      "source": [
        "O laço `for` é um tipo de estrutura de controle de fluxo em Python que permite iterar sobre um conjunto de elementos. A sua estrutura é:\n",
        "\n",
        "\n",
        "\n",
        "```\n",
        "for elemento in conjunto:\n",
        "    # código a ser executado para cada elemento\n",
        "```\n",
        "\n",
        "O laço for itera sobre cada elemento do conjunto especificado e executa o bloco de código dentro do laço para cada elemento. Quando o laço chega ao final do conjunto, ele é interrompido e o programa continua a execução após o laço.\n",
        "\n"
      ],
      "metadata": {
        "id": "HxrSZoRAMh-x"
      }
    },
    {
      "cell_type": "markdown",
      "source": [
        "O conjunto pode ser gerado com a função [`range()`](https://docs.python.org/3/library/functions.html#func-range). Que é uma função capaz de gerar uma sequência de números inteiros. A estrutura dessa função é:\n",
        "\n",
        "```\n",
        "range(inicio, fim, passo)\n",
        "```\n",
        "\n",
        "Segundo a documentação, o `range()` gera uma sequência de números inteiros a partir do valor do parâmetro `inicio` até o valor do parâmetro `fim`, de acordo com o valor do parâmetro `passo`. Se `inicio` não for especificado, o valor padrão é 0. Se `passo` não for especificado, o valor padrão é 1.\n",
        "\n",
        "\n"
      ],
      "metadata": {
        "id": "6VgjyoQtPHBM"
      }
    },
    {
      "cell_type": "markdown",
      "source": [
        "Vamos fazer o mesmo contador `while` agora com `for`."
      ],
      "metadata": {
        "id": "ryn0hfdlUwC8"
      }
    },
    {
      "cell_type": "code",
      "source": [
        "for contador in range(1,11):\n",
        "  print(contador)"
      ],
      "metadata": {
        "id": "t6qcdPyP3YgZ",
        "colab": {
          "base_uri": "https://localhost:8080/"
        },
        "outputId": "cd761e52-f6ec-426b-c23d-6e838345d093"
      },
      "execution_count": null,
      "outputs": [
        {
          "output_type": "stream",
          "name": "stdout",
          "text": [
            "1\n",
            "2\n",
            "3\n",
            "4\n",
            "5\n",
            "6\n",
            "7\n",
            "8\n",
            "9\n",
            "10\n"
          ]
        }
      ]
    },
    {
      "cell_type": "code",
      "source": [
        "for contador in range(1,4):\n",
        "  nota_1 = float(input('Digite a 1° nota: '))\n",
        "  nota_2 = float(input('Digite a 2° nota: '))\n",
        "\n",
        "  print(f'Média: {(nota_1+nota_2)/2}')"
      ],
      "metadata": {
        "id": "KBeY8z573YWz",
        "colab": {
          "base_uri": "https://localhost:8080/"
        },
        "outputId": "fe512ce3-1e5d-44b7-cae9-415ce804c6e1"
      },
      "execution_count": null,
      "outputs": [
        {
          "output_type": "stream",
          "name": "stdout",
          "text": [
            "Digite a 1° nota: 8\n",
            "Digite a 2° nota: 9\n",
            "Média: 8.5\n",
            "Digite a 1° nota: 5\n",
            "Digite a 2° nota: 5\n",
            "Média: 5.0\n",
            "Digite a 1° nota: 6\n",
            "Digite a 2° nota: 6\n",
            "Média: 6.0\n"
          ]
        }
      ]
    },
    {
      "cell_type": "markdown",
      "source": [
        "# Estruturas de dados"
      ],
      "metadata": {
        "id": "8noP8OJ0Vhux"
      }
    },
    {
      "cell_type": "markdown",
      "source": [
        "Um conjunto de elementos é uma coleção de itens, que são armazenados juntos de maneira organizada. Alguns exemplos de conjuntos de elementos em Python são listas, strings e dicionários."
      ],
      "metadata": {
        "id": "xpEUkefTu8fY"
      }
    },
    {
      "cell_type": "markdown",
      "source": [
        "## Listas"
      ],
      "metadata": {
        "id": "THSg4KYLwxIb"
      }
    },
    {
      "cell_type": "markdown",
      "source": [
        "As listas podem armazenar uma coleção de itens em ordem. Eles são delimitados por colchetes `[]` e os itens são separados por vírgulas.\n",
        "\n",
        "Elas também podem armazenar qualquer tipo de item, incluindo números, strings, objetos e outras listas. Elas também podem armazenar itens de tipos de dados diferentes juntos em uma única lista."
      ],
      "metadata": {
        "id": "dzpsiqrOyJcK"
      }
    },
    {
      "cell_type": "code",
      "source": [
        "lista = ['Fabricio Daniel', 9.5, 9.0, 8.0, True]\n",
        "lista"
      ],
      "metadata": {
        "id": "1NSzXfct3Lkw",
        "colab": {
          "base_uri": "https://localhost:8080/"
        },
        "outputId": "02273184-e303-485e-a199-40883f86a96a"
      },
      "execution_count": null,
      "outputs": [
        {
          "output_type": "execute_result",
          "data": {
            "text/plain": [
              "['Fabricio Daniel', 9.5, 9.0, 8.0, True]"
            ]
          },
          "metadata": {},
          "execution_count": 2
        }
      ]
    },
    {
      "cell_type": "markdown",
      "source": [
        "As listas são organizadas em Python porque **cada elemento da lista tem um índice que indica sua posição na lista**. Os índices começam em 0 e vão até o tamanho da lista menos 1."
      ],
      "metadata": {
        "id": "qUz3sJNl6LgK"
      }
    },
    {
      "cell_type": "markdown",
      "source": [
        "Temos então 5 elementos com índices variando de 0 a 4, ordenadamente:\n",
        "\n",
        "```\n",
        "#             [0]           [1]   [2]   [3]    [4]\n",
        "lista = ['Fabricio Daniel', 9.5 , 9.0 , 8.0 , True]\n",
        "```\n",
        "\n",
        "Em Python temos também os índices **negativos** que se iniciam no último elemento com o valor de `-1` e depois avancam no universo dos negativos até chegar no 1° elemeno:\n",
        "\n",
        "```\n",
        "#             [-5]         [-4]  [-3]  [-2]   [-1]\n",
        "lista = ['Fabricio Daniel', 9.5 , 9.0 , 8.0 , True]\n",
        "```\n",
        "\n",
        "Conseguimos selecionar separadamente cada elemento através de seus respectivos índices. Colocando o nome da lista e em seguida o índice a ser selecionado."
      ],
      "metadata": {
        "id": "rLf-Qg526hFD"
      }
    },
    {
      "cell_type": "code",
      "source": [
        "lista[0]"
      ],
      "metadata": {
        "id": "S1lf1DWg3J7A",
        "colab": {
          "base_uri": "https://localhost:8080/",
          "height": 36
        },
        "outputId": "fef432dd-1d03-4909-f374-734de1804f4c"
      },
      "execution_count": null,
      "outputs": [
        {
          "output_type": "execute_result",
          "data": {
            "text/plain": [
              "'Fabricio Daniel'"
            ],
            "application/vnd.google.colaboratory.intrinsic+json": {
              "type": "string"
            }
          },
          "metadata": {},
          "execution_count": 3
        }
      ]
    },
    {
      "cell_type": "code",
      "source": [
        "lista[1]"
      ],
      "metadata": {
        "id": "5MZu9F6S3JxS",
        "colab": {
          "base_uri": "https://localhost:8080/"
        },
        "outputId": "d4fe4ce2-b9f4-43de-9ba8-294375ab8bb0"
      },
      "execution_count": null,
      "outputs": [
        {
          "output_type": "execute_result",
          "data": {
            "text/plain": [
              "9.5"
            ]
          },
          "metadata": {},
          "execution_count": 4
        }
      ]
    },
    {
      "cell_type": "code",
      "source": [
        "lista[-1]"
      ],
      "metadata": {
        "id": "9uLwwKom3Jmg",
        "colab": {
          "base_uri": "https://localhost:8080/"
        },
        "outputId": "a83fb4b7-7df5-43e7-9538-1fdbcac566c0"
      },
      "execution_count": null,
      "outputs": [
        {
          "output_type": "execute_result",
          "data": {
            "text/plain": [
              "True"
            ]
          },
          "metadata": {},
          "execution_count": 5
        }
      ]
    },
    {
      "cell_type": "markdown",
      "source": [
        "Uma forma mais dinâmica de trabalhar item por item de uma lista é utilizando um laço for para leitura elemento a elemento."
      ],
      "metadata": {
        "id": "6TaE1ijmBTCd"
      }
    },
    {
      "cell_type": "code",
      "source": [
        "for elemento in lista:\n",
        "  print(elemento)"
      ],
      "metadata": {
        "id": "2GWvY7F-3IVP",
        "colab": {
          "base_uri": "https://localhost:8080/"
        },
        "outputId": "44cf024d-581d-4c76-9954-aca5319c8408"
      },
      "execution_count": null,
      "outputs": [
        {
          "output_type": "stream",
          "name": "stdout",
          "text": [
            "Fabricio Daniel\n",
            "9.5\n",
            "9.0\n",
            "8.0\n",
            "True\n"
          ]
        }
      ]
    },
    {
      "cell_type": "markdown",
      "source": [
        "A nota `8.0` de Fabricio Daniel precisa ser ajustada pois ganhou 2 pontos em sua ultima nota por fazer um trabalho de turma. Então é necessária fazer uma troca no valor do índice `3` de `8.0` para `10.0`."
      ],
      "metadata": {
        "id": "Dh1_HnIVvucY"
      }
    },
    {
      "cell_type": "code",
      "source": [
        "lista[3] = 10\n",
        "lista"
      ],
      "metadata": {
        "id": "ffFiIlji3G7H",
        "colab": {
          "base_uri": "https://localhost:8080/"
        },
        "outputId": "328bd286-176d-41a4-b8bf-17b533641ab2"
      },
      "execution_count": null,
      "outputs": [
        {
          "output_type": "execute_result",
          "data": {
            "text/plain": [
              "['Fabricio Daniel', 9.5, 9.0, 10, True]"
            ]
          },
          "metadata": {},
          "execution_count": 7
        }
      ]
    },
    {
      "cell_type": "markdown",
      "source": [
        "conseguimos calcular a média do aluno a partir dos dados que temos"
      ],
      "metadata": {
        "id": "53XduzXkycAf"
      }
    },
    {
      "cell_type": "code",
      "source": [
        "media = (lista[1] + lista[2] + lista[3])/3\n",
        "media"
      ],
      "metadata": {
        "id": "fRy9twzI3GFI",
        "colab": {
          "base_uri": "https://localhost:8080/"
        },
        "outputId": "8c8a9bfe-67d8-4256-81d4-fc54595f518e"
      },
      "execution_count": null,
      "outputs": [
        {
          "output_type": "execute_result",
          "data": {
            "text/plain": [
              "9.5"
            ]
          },
          "metadata": {},
          "execution_count": 8
        }
      ]
    },
    {
      "cell_type": "code",
      "source": [
        "duvida = 'Quem veio antes? O ovo? Ou foi a serpente?'\n",
        "lista_palavras = duvida.split('o')\n",
        "print(lista_palavras)\n"
      ],
      "metadata": {
        "colab": {
          "base_uri": "https://localhost:8080/"
        },
        "id": "boQGxfi8ZfTk",
        "outputId": "69d49315-bbb9-4492-edcf-d8d7fb8a7e5a"
      },
      "execution_count": null,
      "outputs": [
        {
          "output_type": "stream",
          "name": "stdout",
          "text": [
            "['Quem vei', ' antes? O ', 'v', '? Ou f', 'i a serpente?']\n"
          ]
        }
      ]
    },
    {
      "cell_type": "markdown",
      "source": [
        "## Manipulação de listas\n",
        "\n",
        "As listas são muito úteis em Python porque permitem armazenar e acessar uma coleção de itens de maneira organizada e rápida. Elas também oferecem muitos métodos úteis para manipular os itens armazenados, como adicionar, remover, classificar e pesquisar elementos."
      ],
      "metadata": {
        "id": "d-iYr10-y4qw"
      }
    },
    {
      "cell_type": "markdown",
      "source": [
        "#### Quantidade de elementos\n",
        "\n",
        "Usamos a função [`len()`](https://docs.python.org/3/library/functions.html#len) para descobrimos a quantidade de elementos de um conjunto."
      ],
      "metadata": {
        "id": "ZLqx9A97XVB_"
      }
    },
    {
      "cell_type": "code",
      "source": [],
      "metadata": {
        "id": "TOVGVubX3BI_"
      },
      "execution_count": null,
      "outputs": []
    },
    {
      "cell_type": "markdown",
      "source": [
        "#### Partição\n",
        "\n",
        "A partição de listas por indexação em Python é uma técnica muito útil para selecionar um subconjunto de elementos de uma lista. Ela é feita usando a sintaxe `lista[inicio:fim]`, onde `inicio` é o índice do primeiro elemento a ser incluído na partição e `fim` é o índice do primeiro elemento a ser excluído da partição."
      ],
      "metadata": {
        "id": "Z5tpstlHJss3"
      }
    },
    {
      "cell_type": "code",
      "source": [],
      "metadata": {
        "id": "Gm9RaTnG28uC"
      },
      "execution_count": null,
      "outputs": []
    },
    {
      "cell_type": "code",
      "source": [
        "lista[1:3]"
      ],
      "metadata": {
        "id": "LfitkLcQ26MO"
      },
      "execution_count": null,
      "outputs": []
    },
    {
      "cell_type": "code",
      "source": [],
      "metadata": {
        "id": "1-99Q09W28Bu"
      },
      "execution_count": null,
      "outputs": []
    },
    {
      "cell_type": "code",
      "source": [
        "lista[3:]"
      ],
      "metadata": {
        "id": "j23Uwma5226l"
      },
      "execution_count": null,
      "outputs": []
    },
    {
      "cell_type": "code",
      "source": [],
      "metadata": {
        "id": "zfMrd28_21_q"
      },
      "execution_count": null,
      "outputs": []
    },
    {
      "cell_type": "markdown",
      "source": [
        "#### [`append()`](https://docs.python.org/3/tutorial/datastructures.html#:~:text=of%20list%20objects%3A-,list.append(x),-Add%20an%20item)\n",
        "\n",
        "Adiciona um elemento ao final da lista."
      ],
      "metadata": {
        "id": "O0RRyabkRzZC"
      }
    },
    {
      "cell_type": "code",
      "source": [],
      "metadata": {
        "id": "Sr2BasZE20qF"
      },
      "execution_count": null,
      "outputs": []
    },
    {
      "cell_type": "markdown",
      "source": [
        "#### [`extend()`](https://docs.python.org/3/tutorial/datastructures.html#:~:text=list.extend(iterable))\n",
        "\n",
        "Adiciona vários elementos ao final da lista.\n",
        "\n",
        "Adicionaremos as notas `[10.0,8.0,9.0]` na lista do Fabricio Daniel"
      ],
      "metadata": {
        "id": "uQV91XMsUOJD"
      }
    },
    {
      "cell_type": "code",
      "source": [],
      "metadata": {
        "id": "b8a6wX2w2zrs"
      },
      "execution_count": null,
      "outputs": []
    },
    {
      "cell_type": "markdown",
      "source": [
        "*Isso não é possivel ser feito com o* `append`."
      ],
      "metadata": {
        "id": "IVJvkTwNUk6M"
      }
    },
    {
      "cell_type": "code",
      "source": [],
      "metadata": {
        "id": "DyT9kWkB2yeB"
      },
      "execution_count": null,
      "outputs": []
    },
    {
      "cell_type": "markdown",
      "source": [
        "#### [`remove()`](https://docs.python.org/3/tutorial/datastructures.html#:~:text=append(x).-,list.remove(x),-Remove%20the%20first)\n",
        "\n",
        "Remove um elemento específico da lista."
      ],
      "metadata": {
        "id": "dPGM5gpyUX1z"
      }
    },
    {
      "cell_type": "code",
      "source": [
        "lista = [1,2,3,4,5,6,7,8]"
      ],
      "metadata": {
        "id": "QgXraxZL2xZN"
      },
      "execution_count": null,
      "outputs": []
    },
    {
      "cell_type": "code",
      "source": [
        "lista.remove(2)"
      ],
      "metadata": {
        "id": "oHzPfDyMRrYW"
      },
      "execution_count": null,
      "outputs": []
    },
    {
      "cell_type": "code",
      "source": [],
      "metadata": {
        "id": "GfwmDXf6Ry6x"
      },
      "execution_count": null,
      "outputs": []
    },
    {
      "cell_type": "code",
      "source": [
        "lista"
      ],
      "metadata": {
        "id": "jV7_FwACRxdZ",
        "outputId": "fe677df8-0eaf-4445-bd97-79395fd19dbc",
        "colab": {
          "base_uri": "https://localhost:8080/"
        }
      },
      "execution_count": null,
      "outputs": [
        {
          "output_type": "execute_result",
          "data": {
            "text/plain": [
              "[1, 3, 4, 5, 6, 7, 8]"
            ]
          },
          "metadata": {},
          "execution_count": 4
        }
      ]
    },
    {
      "cell_type": "code",
      "source": [
        "lista."
      ],
      "metadata": {
        "id": "C18Gh5T9R0Ii"
      },
      "execution_count": null,
      "outputs": []
    },
    {
      "cell_type": "markdown",
      "source": [
        "## Dicionário"
      ],
      "metadata": {
        "id": "Rc22Vc08YDZ2"
      }
    },
    {
      "cell_type": "markdown",
      "source": [
        "Os dicionários são um tipo de estrutura de dados que armazenam pares de *chave-valor*. Eles são delimitados por chaves `{}` e os pares *chave-valor* são separados por vírgulas.\n",
        "\n",
        "```\n",
        "dicionário = {chave: valor}\n",
        "```\n",
        "\n",
        "A **chave** é um elemento único que identifica um valor no dicionário, enquanto o **valor** é o item que é armazenado para a chave. As chaves e os valores podem ser de **qualquer tipo de dado**.\n",
        "\n",
        "Os dicionários são úteis para armazenar e acessar dados de maneira organizada e rápida. Eles são um tipo de conjunto de elementos em Python, pois armazenam uma coleção de itens."
      ],
      "metadata": {
        "id": "PJ-cCKPjeWxL"
      }
    },
    {
      "cell_type": "code",
      "source": [
        "dicionario = {'chave_1' : 1,\n",
        "              'chave_2': 2}\n",
        "dicionario"
      ],
      "metadata": {
        "id": "fO6BSSP02lPY",
        "colab": {
          "base_uri": "https://localhost:8080/"
        },
        "outputId": "d82460f7-8360-4b75-fb1d-4988ec378c95"
      },
      "execution_count": null,
      "outputs": [
        {
          "output_type": "execute_result",
          "data": {
            "text/plain": [
              "{'chave_1': 1, 'chave_2': 2}"
            ]
          },
          "metadata": {},
          "execution_count": 11
        }
      ]
    },
    {
      "cell_type": "markdown",
      "source": [
        "---\n",
        "**Situação:**\n",
        "\n",
        "Vamos criar um conjunto de dados com informações de matricula de um estudante. Os dados são os seguintes:\n",
        "\n",
        "- matricula: 2000168933\n",
        "- dia de cadastro: 25\n",
        "- mês de cadastro: 10\n",
        "- turma: 2E"
      ],
      "metadata": {
        "id": "_JbQ3KMKfkXU"
      }
    },
    {
      "cell_type": "code",
      "source": [
        "cadastro = {'matricula': 2000168933,\n",
        "            'dia_cadastro': 25,\n",
        "            'mes_cadastro': 10,\n",
        "            'turma': '2E'}\n",
        "cadastro"
      ],
      "metadata": {
        "id": "Q1SKuEXQ2jkL",
        "colab": {
          "base_uri": "https://localhost:8080/"
        },
        "outputId": "327615d8-0178-4cc5-d65b-b595dfc719b9"
      },
      "execution_count": null,
      "outputs": [
        {
          "output_type": "execute_result",
          "data": {
            "text/plain": [
              "{'matricula': 2000168933,\n",
              " 'dia_cadastro': 25,\n",
              " 'mes_cadastro': 10,\n",
              " 'turma': '2E'}"
            ]
          },
          "metadata": {},
          "execution_count": 12
        }
      ]
    },
    {
      "cell_type": "code",
      "source": [
        "cadastro['matricula']"
      ],
      "metadata": {
        "id": "H7oT2M_a2jY5",
        "colab": {
          "base_uri": "https://localhost:8080/"
        },
        "outputId": "e85cc8be-ab33-4e44-d88b-e34f9addd526"
      },
      "execution_count": null,
      "outputs": [
        {
          "output_type": "execute_result",
          "data": {
            "text/plain": [
              "2000168933"
            ]
          },
          "metadata": {},
          "execution_count": 13
        }
      ]
    },
    {
      "cell_type": "code",
      "source": [
        "cadastro['turma']"
      ],
      "metadata": {
        "id": "Mv8we96a2jPR",
        "colab": {
          "base_uri": "https://localhost:8080/",
          "height": 36
        },
        "outputId": "f3347c92-5150-4da1-d0c8-923e2b8667d0"
      },
      "execution_count": null,
      "outputs": [
        {
          "output_type": "execute_result",
          "data": {
            "text/plain": [
              "'2E'"
            ],
            "application/vnd.google.colaboratory.intrinsic+json": {
              "type": "string"
            }
          },
          "metadata": {},
          "execution_count": 14
        }
      ]
    },
    {
      "cell_type": "markdown",
      "source": [
        "É possível substituir os valores dentro de uma chave. Por exemplo, recebemos a informação que a turma do estudante que cadastramos foi trocada para `'2G'` e agora precisamos trocar o valor da chave `'turma'`."
      ],
      "metadata": {
        "id": "8ex5pt2ykDd2"
      }
    },
    {
      "cell_type": "code",
      "source": [
        "cadastro['turma'] = '2G'\n",
        "cadastro"
      ],
      "metadata": {
        "id": "WqZPkVop2hq-",
        "colab": {
          "base_uri": "https://localhost:8080/"
        },
        "outputId": "9c170412-ac27-42d4-b849-91f63483aed2"
      },
      "execution_count": null,
      "outputs": [
        {
          "output_type": "execute_result",
          "data": {
            "text/plain": [
              "{'matricula': '2000168933',\n",
              " 'dia_cadastro': 25,\n",
              " 'mes_cadastro': 10,\n",
              " 'turma': '2G'}"
            ]
          },
          "metadata": {},
          "execution_count": 19
        }
      ]
    },
    {
      "cell_type": "markdown",
      "source": [
        "Podemos também adicionar outros dados ao dicionário. Vamos adicionar a informação de modalidade de ensino, nosso estudante atuará inicialmente em modalidade EAD.\n",
        "\n",
        "Então iremos definir uma chave chamada `'modalidade'` e o valor `'EAD'`."
      ],
      "metadata": {
        "id": "wB0qRb56mQvv"
      }
    },
    {
      "cell_type": "code",
      "source": [
        "cadastro['modalidade'] = 'EAD'\n",
        "cadastro"
      ],
      "metadata": {
        "id": "YDbsuNbw2gb2",
        "colab": {
          "base_uri": "https://localhost:8080/"
        },
        "outputId": "21796600-81d2-4204-b07d-a51e992fa81a"
      },
      "execution_count": null,
      "outputs": [
        {
          "output_type": "execute_result",
          "data": {
            "text/plain": [
              "{'matricula': '2000168933',\n",
              " 'dia_cadastro': 25,\n",
              " 'mes_cadastro': 10,\n",
              " 'turma': '2G',\n",
              " 'modalidade': 'EAD'}"
            ]
          },
          "metadata": {},
          "execution_count": 20
        }
      ]
    },
    {
      "cell_type": "markdown",
      "source": [
        "## Aprofundando em dicionários"
      ],
      "metadata": {
        "id": "LJ3o_inroxg_"
      }
    },
    {
      "cell_type": "markdown",
      "source": [
        "#### [`pop()`](https://python-reference.readthedocs.io/en/latest/docs/dict/pop.html)\n",
        "Remove um item de um dicionário e o retorna."
      ],
      "metadata": {
        "id": "2N3GLlkSpBiu"
      }
    },
    {
      "cell_type": "code",
      "source": [
        "cadastro.pop('turma')"
      ],
      "metadata": {
        "id": "NJKPaN0N2d2G",
        "colab": {
          "base_uri": "https://localhost:8080/",
          "height": 36
        },
        "outputId": "46e37b99-63b6-458f-9c94-931ffc08eb46"
      },
      "execution_count": null,
      "outputs": [
        {
          "output_type": "execute_result",
          "data": {
            "text/plain": [
              "'2G'"
            ],
            "application/vnd.google.colaboratory.intrinsic+json": {
              "type": "string"
            }
          },
          "metadata": {},
          "execution_count": 21
        }
      ]
    },
    {
      "cell_type": "code",
      "source": [
        "cadastro"
      ],
      "metadata": {
        "id": "7XZ7Rl4R2cSF",
        "colab": {
          "base_uri": "https://localhost:8080/"
        },
        "outputId": "e2a1c1fe-d00e-43c1-b2f3-6bab20e74e35"
      },
      "execution_count": null,
      "outputs": [
        {
          "output_type": "execute_result",
          "data": {
            "text/plain": [
              "{'matricula': '2000168933',\n",
              " 'dia_cadastro': 25,\n",
              " 'mes_cadastro': 10,\n",
              " 'modalidade': 'EAD'}"
            ]
          },
          "metadata": {},
          "execution_count": 22
        }
      ]
    },
    {
      "cell_type": "markdown",
      "source": [
        "#### [`items()`](https://python-reference.readthedocs.io/en/latest/docs/dict/items.html)\n",
        "Retorna uma lista de pares chave-valor do dicionário."
      ],
      "metadata": {
        "id": "sYZGvJJYrW_y"
      }
    },
    {
      "cell_type": "code",
      "source": [
        "cadastro.items()"
      ],
      "metadata": {
        "id": "rWJG9aZ72a0D",
        "colab": {
          "base_uri": "https://localhost:8080/"
        },
        "outputId": "249f9845-b541-4cac-a823-dd9b5bab0031"
      },
      "execution_count": null,
      "outputs": [
        {
          "output_type": "execute_result",
          "data": {
            "text/plain": [
              "dict_items([('matricula', '2000168933'), ('dia_cadastro', 25), ('mes_cadastro', 10), ('modalidade', 'EAD')])"
            ]
          },
          "metadata": {},
          "execution_count": 23
        }
      ]
    },
    {
      "cell_type": "markdown",
      "source": [
        "#### [`keys()`](https://python-reference.readthedocs.io/en/latest/docs/dict/keys.html)\n",
        "Retorna uma lista das chaves do dicionário."
      ],
      "metadata": {
        "id": "Lb0utNFGrZBY"
      }
    },
    {
      "cell_type": "code",
      "source": [
        "cadastro.keys()"
      ],
      "metadata": {
        "id": "H1WmQRaR2Z-l",
        "colab": {
          "base_uri": "https://localhost:8080/"
        },
        "outputId": "b130c530-b0fc-4d6f-eb5b-8388eeea1650"
      },
      "execution_count": null,
      "outputs": [
        {
          "output_type": "execute_result",
          "data": {
            "text/plain": [
              "dict_keys(['matricula', 'dia_cadastro', 'mes_cadastro', 'modalidade'])"
            ]
          },
          "metadata": {},
          "execution_count": 24
        }
      ]
    },
    {
      "cell_type": "markdown",
      "source": [
        "#### [`values()`](https://python-reference.readthedocs.io/en/latest/docs/dict/values.html)\n",
        "Retorna uma lista dos valores do dicionário."
      ],
      "metadata": {
        "id": "qKyu3bf9rbtX"
      }
    },
    {
      "cell_type": "code",
      "source": [
        "cadastro.values()"
      ],
      "metadata": {
        "id": "E5pgDcfQ2ZHH",
        "colab": {
          "base_uri": "https://localhost:8080/"
        },
        "outputId": "17ca9f9c-86f4-4fef-82d6-6205a8d885f0"
      },
      "execution_count": null,
      "outputs": [
        {
          "output_type": "execute_result",
          "data": {
            "text/plain": [
              "dict_values(['2000168933', 25, 10, 'EAD'])"
            ]
          },
          "metadata": {},
          "execution_count": 25
        }
      ]
    },
    {
      "cell_type": "markdown",
      "source": [
        "### Leitura de valores com `for`"
      ],
      "metadata": {
        "id": "e3XVjR8Frp75"
      }
    },
    {
      "cell_type": "code",
      "source": [
        "for chaves in cadastro.keys():\n",
        "  print(cadastro[chaves])"
      ],
      "metadata": {
        "id": "iwIY3hwV2XL5",
        "colab": {
          "base_uri": "https://localhost:8080/"
        },
        "outputId": "998f4bb6-70b1-4afe-9d87-a051b01169ad"
      },
      "execution_count": null,
      "outputs": [
        {
          "output_type": "stream",
          "name": "stdout",
          "text": [
            "2000168933\n",
            "25\n",
            "10\n",
            "EAD\n"
          ]
        }
      ]
    },
    {
      "cell_type": "code",
      "source": [
        "for valores in cadastro.values():\n",
        "  print(valores)"
      ],
      "metadata": {
        "id": "KlEbYjKN2XCy",
        "colab": {
          "base_uri": "https://localhost:8080/"
        },
        "outputId": "60af7b34-aa33-40c3-c0fd-3567f274b97a"
      },
      "execution_count": null,
      "outputs": [
        {
          "output_type": "stream",
          "name": "stdout",
          "text": [
            "2000168933\n",
            "25\n",
            "10\n",
            "EAD\n"
          ]
        }
      ]
    },
    {
      "cell_type": "code",
      "source": [
        "for chaves, valores in cadastro.items():\n",
        "  print(chaves, valores)"
      ],
      "metadata": {
        "id": "aiCgk-o42W6u",
        "colab": {
          "base_uri": "https://localhost:8080/"
        },
        "outputId": "0ba4f709-cad0-4b5c-f664-f808ca649b67"
      },
      "execution_count": null,
      "outputs": [
        {
          "output_type": "stream",
          "name": "stdout",
          "text": [
            "matricula 2000168933\n",
            "dia_cadastro 25\n",
            "mes_cadastro 10\n",
            "modalidade EAD\n"
          ]
        }
      ]
    },
    {
      "cell_type": "code",
      "source": [
        "loja = {'nomes': ['televisão', 'celular', 'notebook', 'geladeira', 'fogão'],\n",
        "        'precos': [2000, 1500, 3500, 4000, 1500]}\n"
      ],
      "metadata": {
        "id": "nVGTsN1uxmSp"
      },
      "execution_count": null,
      "outputs": []
    },
    {
      "cell_type": "code",
      "source": [
        "for chave, elementos in loja.items():\n",
        "  print(f'Chave: {chave}\\nElementos:')\n",
        "  for dado in elementos:\n",
        "    print(dado)\n"
      ],
      "metadata": {
        "colab": {
          "base_uri": "https://localhost:8080/"
        },
        "id": "8uYdkhdV19Rl",
        "outputId": "e8735c84-3d80-49f5-cac2-32171af5e304"
      },
      "execution_count": null,
      "outputs": [
        {
          "output_type": "stream",
          "name": "stdout",
          "text": [
            "Chave: nomes\n",
            "Elementos:\n",
            "televisão\n",
            "celular\n",
            "notebook\n",
            "geladeira\n",
            "fogão\n",
            "Chave: precos\n",
            "Elementos:\n",
            "2000\n",
            "1500\n",
            "3500\n",
            "4000\n",
            "1500\n"
          ]
        }
      ]
    },
    {
      "cell_type": "code",
      "source": [],
      "metadata": {
        "id": "6rOEI-592FSu"
      },
      "execution_count": null,
      "outputs": []
    }
  ]
}